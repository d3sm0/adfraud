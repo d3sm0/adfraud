{
 "cells": [
  {
   "cell_type": "code",
   "execution_count": 1,
   "metadata": {},
   "outputs": [],
   "source": [
    "import pandas as pd\n",
    "import numpy as np\n",
    "import matplotlib.pyplot as plt\n",
    "import seaborn as sns\n",
    "sns.set()\n",
    "%matplotlib inline"
   ]
  },
  {
   "cell_type": "code",
   "execution_count": 2,
   "metadata": {},
   "outputs": [],
   "source": [
    "df = pd.read_csv('train_sample.csv')"
   ]
  },
  {
   "cell_type": "code",
   "execution_count": 6,
   "metadata": {},
   "outputs": [
    {
     "data": {
      "text/plain": [
       "(100000, 8)"
      ]
     },
     "execution_count": 6,
     "metadata": {},
     "output_type": "execute_result"
    }
   ],
   "source": [
    "df.shape"
   ]
  },
  {
   "cell_type": "markdown",
   "metadata": {},
   "source": [
    "### Introduction\n",
    "The problem is to classify fraudlent ads. This fit in an almost standard classification task in ML where the data are sampled iid according to some distribution, features are real values and the labels are in {0,1}. \n",
    "Our goal is to find a predictor that minimize a measure of the miss-classification error. Due to \"nice\" properties (convexity and smoothness), a common choice is the logistic loss.\n",
    "Now an important aspect of any classification problem is that there are enough samples of both classes. It's known that in problems such as fraud detection, this may not be the case. Ignoring this will most likely result in a classifier that overfits, at one of the two classes, providing maximum accuracy. One metric to spot such issue is to look at the false negative, namely when a statistical test fails under the alternative hypothesis.\n",
    "\n",
    "I treated problem like this in the past, and I'm confident with a library called imblearn, which provides effective method to deal with the undersampling of the class, and convient reporting metrics.\n",
    "I'll get back to this later. Now let's look at the data.\n",
    "\n",
    "This is a sample dataset, made of 8 columns of which 6 of them are features, 'is_attributed' is the target label. 'attributed_time' is a column that is not nan only if is_attributed is true. I will remove it to avoid data leakage."
   ]
  },
  {
   "cell_type": "code",
   "execution_count": 12,
   "metadata": {},
   "outputs": [
    {
     "data": {
      "text/plain": [
       "(ip                     0\n",
       " app                    0\n",
       " device                 0\n",
       " os                     0\n",
       " channel                0\n",
       " click_time             0\n",
       " attributed_time    99773\n",
       " is_attributed          0\n",
       " dtype: int64, 227, 227)"
      ]
     },
     "execution_count": 12,
     "metadata": {},
     "output_type": "execute_result"
    }
   ],
   "source": [
    "df.isna().sum(), df.loc[df.is_attributed ==1, 'is_attributed'].count(), (df.is_attributed == 1).sum()"
   ]
  },
  {
   "cell_type": "code",
   "execution_count": 13,
   "metadata": {},
   "outputs": [],
   "source": [
    "df.drop(columns='attributed_time', inplace=True, index=1)"
   ]
  },
  {
   "cell_type": "markdown",
   "metadata": {},
   "source": [
    "Now, we have click_time that is a data object. The others are categorical variable, which takes non ordered values. Those values can be tricky to digest for any kind of classifier, for this reason i transform the click_time in unix time and rescale everything using a minimaxscalar to maintain the integer property."
   ]
  },
  {
   "cell_type": "code",
   "execution_count": 14,
   "metadata": {},
   "outputs": [
    {
     "data": {
      "text/html": [
       "<div>\n",
       "<style scoped>\n",
       "    .dataframe tbody tr th:only-of-type {\n",
       "        vertical-align: middle;\n",
       "    }\n",
       "\n",
       "    .dataframe tbody tr th {\n",
       "        vertical-align: top;\n",
       "    }\n",
       "\n",
       "    .dataframe thead th {\n",
       "        text-align: right;\n",
       "    }\n",
       "</style>\n",
       "<table border=\"1\" class=\"dataframe\">\n",
       "  <thead>\n",
       "    <tr style=\"text-align: right;\">\n",
       "      <th></th>\n",
       "      <th>ip</th>\n",
       "      <th>app</th>\n",
       "      <th>device</th>\n",
       "      <th>os</th>\n",
       "      <th>channel</th>\n",
       "      <th>click_time</th>\n",
       "      <th>is_attributed</th>\n",
       "    </tr>\n",
       "  </thead>\n",
       "  <tbody>\n",
       "    <tr>\n",
       "      <th>0</th>\n",
       "      <td>87540</td>\n",
       "      <td>12</td>\n",
       "      <td>1</td>\n",
       "      <td>13</td>\n",
       "      <td>497</td>\n",
       "      <td>2017-11-07 09:30:38</td>\n",
       "      <td>0</td>\n",
       "    </tr>\n",
       "    <tr>\n",
       "      <th>2</th>\n",
       "      <td>101424</td>\n",
       "      <td>12</td>\n",
       "      <td>1</td>\n",
       "      <td>19</td>\n",
       "      <td>212</td>\n",
       "      <td>2017-11-07 18:05:24</td>\n",
       "      <td>0</td>\n",
       "    </tr>\n",
       "    <tr>\n",
       "      <th>3</th>\n",
       "      <td>94584</td>\n",
       "      <td>13</td>\n",
       "      <td>1</td>\n",
       "      <td>13</td>\n",
       "      <td>477</td>\n",
       "      <td>2017-11-07 04:58:08</td>\n",
       "      <td>0</td>\n",
       "    </tr>\n",
       "    <tr>\n",
       "      <th>4</th>\n",
       "      <td>68413</td>\n",
       "      <td>12</td>\n",
       "      <td>1</td>\n",
       "      <td>1</td>\n",
       "      <td>178</td>\n",
       "      <td>2017-11-09 09:00:09</td>\n",
       "      <td>0</td>\n",
       "    </tr>\n",
       "    <tr>\n",
       "      <th>5</th>\n",
       "      <td>93663</td>\n",
       "      <td>3</td>\n",
       "      <td>1</td>\n",
       "      <td>17</td>\n",
       "      <td>115</td>\n",
       "      <td>2017-11-09 01:22:13</td>\n",
       "      <td>0</td>\n",
       "    </tr>\n",
       "  </tbody>\n",
       "</table>\n",
       "</div>"
      ],
      "text/plain": [
       "       ip  app  device  os  channel           click_time  is_attributed\n",
       "0   87540   12       1  13      497  2017-11-07 09:30:38              0\n",
       "2  101424   12       1  19      212  2017-11-07 18:05:24              0\n",
       "3   94584   13       1  13      477  2017-11-07 04:58:08              0\n",
       "4   68413   12       1   1      178  2017-11-09 09:00:09              0\n",
       "5   93663    3       1  17      115  2017-11-09 01:22:13              0"
      ]
     },
     "execution_count": 14,
     "metadata": {},
     "output_type": "execute_result"
    }
   ],
   "source": [
    "df.head()"
   ]
  },
  {
   "cell_type": "code",
   "execution_count": 17,
   "metadata": {},
   "outputs": [],
   "source": [
    "df.click_time = pd.to_datetime(df.click_time).astype(np.int64)// 10**9"
   ]
  },
  {
   "cell_type": "code",
   "execution_count": 18,
   "metadata": {},
   "outputs": [],
   "source": [
    "from sklearn.preprocessing import minmax_scale"
   ]
  },
  {
   "cell_type": "code",
   "execution_count": 26,
   "metadata": {},
   "outputs": [],
   "source": [
    "x,y = df.iloc[:, :-1], df.iloc[:, -1]"
   ]
  },
  {
   "cell_type": "code",
   "execution_count": 27,
   "metadata": {},
   "outputs": [],
   "source": [
    "x = x.apply(minmax_scale)"
   ]
  },
  {
   "cell_type": "markdown",
   "metadata": {},
   "source": [
    "Before diving into the model construction, let's check two things:\n",
    "1. are the classes balanced?\n",
    "2. is there any correlation among features?\n",
    "The second question is important because if features are highly correlated then any linear classifier may fail to find the separation boundary. A common solution to this problem is regularization."
   ]
  },
  {
   "cell_type": "code",
   "execution_count": 32,
   "metadata": {},
   "outputs": [
    {
     "data": {
      "text/html": [
       "<div>\n",
       "<style scoped>\n",
       "    .dataframe tbody tr th:only-of-type {\n",
       "        vertical-align: middle;\n",
       "    }\n",
       "\n",
       "    .dataframe tbody tr th {\n",
       "        vertical-align: top;\n",
       "    }\n",
       "\n",
       "    .dataframe thead th {\n",
       "        text-align: right;\n",
       "    }\n",
       "</style>\n",
       "<table border=\"1\" class=\"dataframe\">\n",
       "  <thead>\n",
       "    <tr style=\"text-align: right;\">\n",
       "      <th></th>\n",
       "      <th>ip</th>\n",
       "      <th>app</th>\n",
       "      <th>device</th>\n",
       "      <th>os</th>\n",
       "      <th>channel</th>\n",
       "      <th>click_time</th>\n",
       "    </tr>\n",
       "  </thead>\n",
       "  <tbody>\n",
       "    <tr>\n",
       "      <th>ip</th>\n",
       "      <td>1.000000</td>\n",
       "      <td>0.023187</td>\n",
       "      <td>0.047121</td>\n",
       "      <td>0.175618</td>\n",
       "      <td>-0.066273</td>\n",
       "      <td>0.393515</td>\n",
       "    </tr>\n",
       "    <tr>\n",
       "      <th>app</th>\n",
       "      <td>0.023187</td>\n",
       "      <td>1.000000</td>\n",
       "      <td>-0.067034</td>\n",
       "      <td>0.118395</td>\n",
       "      <td>-0.061293</td>\n",
       "      <td>-0.050037</td>\n",
       "    </tr>\n",
       "    <tr>\n",
       "      <th>device</th>\n",
       "      <td>0.047121</td>\n",
       "      <td>-0.067034</td>\n",
       "      <td>1.000000</td>\n",
       "      <td>0.003587</td>\n",
       "      <td>0.034337</td>\n",
       "      <td>0.024414</td>\n",
       "    </tr>\n",
       "    <tr>\n",
       "      <th>os</th>\n",
       "      <td>0.175618</td>\n",
       "      <td>0.118395</td>\n",
       "      <td>0.003587</td>\n",
       "      <td>1.000000</td>\n",
       "      <td>0.013170</td>\n",
       "      <td>0.073776</td>\n",
       "    </tr>\n",
       "    <tr>\n",
       "      <th>channel</th>\n",
       "      <td>-0.066273</td>\n",
       "      <td>-0.061293</td>\n",
       "      <td>0.034337</td>\n",
       "      <td>0.013170</td>\n",
       "      <td>1.000000</td>\n",
       "      <td>0.080859</td>\n",
       "    </tr>\n",
       "    <tr>\n",
       "      <th>click_time</th>\n",
       "      <td>0.393515</td>\n",
       "      <td>-0.050037</td>\n",
       "      <td>0.024414</td>\n",
       "      <td>0.073776</td>\n",
       "      <td>0.080859</td>\n",
       "      <td>1.000000</td>\n",
       "    </tr>\n",
       "  </tbody>\n",
       "</table>\n",
       "</div>"
      ],
      "text/plain": [
       "                  ip       app    device        os   channel  click_time\n",
       "ip          1.000000  0.023187  0.047121  0.175618 -0.066273    0.393515\n",
       "app         0.023187  1.000000 -0.067034  0.118395 -0.061293   -0.050037\n",
       "device      0.047121 -0.067034  1.000000  0.003587  0.034337    0.024414\n",
       "os          0.175618  0.118395  0.003587  1.000000  0.013170    0.073776\n",
       "channel    -0.066273 -0.061293  0.034337  0.013170  1.000000    0.080859\n",
       "click_time  0.393515 -0.050037  0.024414  0.073776  0.080859    1.000000"
      ]
     },
     "execution_count": 32,
     "metadata": {},
     "output_type": "execute_result"
    }
   ],
   "source": [
    "x[y==1].corr()"
   ]
  },
  {
   "cell_type": "markdown",
   "metadata": {},
   "source": [
    "As I can see the class are heavily unbalance. To treat this I will resort in imblearn combine methods. In particular i will use SMOTEENN, which performs oversampling of the true class and remove the noise using a form of a Neirest Neighbour classifier.\n",
    "\n",
    "Let me also prepare for the classification task, and use a train test,split."
   ]
  },
  {
   "cell_type": "code",
   "execution_count": 42,
   "metadata": {
    "scrolled": true
   },
   "outputs": [
    {
     "data": {
      "text/plain": [
       "227"
      ]
     },
     "execution_count": 42,
     "metadata": {},
     "output_type": "execute_result"
    }
   ],
   "source": [
    "(y==1).sum()"
   ]
  },
  {
   "cell_type": "code",
   "execution_count": 35,
   "metadata": {},
   "outputs": [],
   "source": [
    "from imblearn.combine import SMOTEENN\n",
    "from imblearn.metrics import classification_report_imbalanced\n",
    "from sklearn.model_selection import train_test_split, KFold"
   ]
  },
  {
   "cell_type": "code",
   "execution_count": 36,
   "metadata": {},
   "outputs": [],
   "source": [
    "x_tr, x_ts, y_tr, y_ts = train_test_split(x,y, test_size=0.3)"
   ]
  },
  {
   "cell_type": "code",
   "execution_count": 46,
   "metadata": {},
   "outputs": [
    {
     "data": {
      "text/plain": [
       "(147, 80)"
      ]
     },
     "execution_count": 46,
     "metadata": {},
     "output_type": "execute_result"
    }
   ],
   "source": [
    "y_tr.sum(),y_ts.sum()"
   ]
  },
  {
   "cell_type": "code",
   "execution_count": 47,
   "metadata": {},
   "outputs": [],
   "source": [
    "sampler = SMOTEENN()"
   ]
  },
  {
   "cell_type": "code",
   "execution_count": 49,
   "metadata": {},
   "outputs": [],
   "source": [
    "x_tr, y_tr = sampler.fit_resample(x_tr, y_tr)"
   ]
  },
  {
   "cell_type": "markdown",
   "metadata": {},
   "source": [
    "The resample method added synthetic data to the previous training set, until the ratio between the two classes is the desired one.\n",
    "We can now use this for training our classifier. I will use three different, logistic regression trained via a quasi-newton method, a logistic regression trained via SGD, and a tree based method."
   ]
  },
  {
   "cell_type": "code",
   "execution_count": 51,
   "metadata": {},
   "outputs": [
    {
     "data": {
      "text/plain": [
       "0.5067515572140026"
      ]
     },
     "execution_count": 51,
     "metadata": {},
     "output_type": "execute_result"
    }
   ],
   "source": [
    "y_tr.mean()"
   ]
  },
  {
   "cell_type": "code",
   "execution_count": 52,
   "metadata": {},
   "outputs": [],
   "source": [
    "from sklearn.linear_model import SGDClassifier, LogisticRegression\n",
    "from sklearn.ensemble import GradientBoostingClassifier"
   ]
  },
  {
   "cell_type": "code",
   "execution_count": 63,
   "metadata": {},
   "outputs": [
    {
     "name": "stdout",
     "output_type": "stream",
     "text": [
      "                   pre       rec       spe        f1       geo       iba       sup\n",
      "\n",
      "          0       1.00      0.81      0.80      0.90      0.81      0.65     29920\n",
      "          1       0.01      0.80      0.81      0.02      0.81      0.65        80\n",
      "\n",
      "avg / total       1.00      0.81      0.80      0.89      0.81      0.65     30000\n",
      "\n"
     ]
    }
   ],
   "source": [
    "clf = LogisticRegression(solver='lbfgs').fit(x_tr, y_tr)\n",
    "y_hat = clf.predict(x_ts)\n",
    "lg = clf.coef_\n",
    "print(classification_report_imbalanced(y_ts, y_hat))"
   ]
  },
  {
   "cell_type": "code",
   "execution_count": 64,
   "metadata": {},
   "outputs": [
    {
     "name": "stdout",
     "output_type": "stream",
     "text": [
      "                   pre       rec       spe        f1       geo       iba       sup\n",
      "\n",
      "          0       1.00      0.82      0.76      0.90      0.79      0.63     29920\n",
      "          1       0.01      0.76      0.82      0.02      0.79      0.62        80\n",
      "\n",
      "avg / total       1.00      0.82      0.76      0.90      0.79      0.63     30000\n",
      "\n"
     ]
    }
   ],
   "source": [
    "clf = SGDClassifier().fit(x_tr, y_tr)\n",
    "y_hat = clf.predict(x_ts)\n",
    "sgd = clf.coef_\n",
    "print(classification_report_imbalanced(y_ts, y_hat))"
   ]
  },
  {
   "cell_type": "code",
   "execution_count": 65,
   "metadata": {},
   "outputs": [
    {
     "name": "stdout",
     "output_type": "stream",
     "text": [
      "                   pre       rec       spe        f1       geo       iba       sup\n",
      "\n",
      "          0       1.00      0.97      0.89      0.99      0.93      0.87     29920\n",
      "          1       0.08      0.89      0.97      0.14      0.93      0.85        80\n",
      "\n",
      "avg / total       1.00      0.97      0.89      0.98      0.93      0.87     30000\n",
      "\n"
     ]
    }
   ],
   "source": [
    "clf = GradientBoostingClassifier().fit(x_tr, y_tr)\n",
    "y_hat = clf.predict(x_ts)\n",
    "gb = clf.feature_importances_\n",
    "print(classification_report_imbalanced(y_ts, y_hat))"
   ]
  },
  {
   "cell_type": "markdown",
   "metadata": {},
   "source": [
    "As I said in the introduction, I'm interested in a classifier that has high accuracy and high recall for the under sample class. Both linear models performs well, despite the correlation between features that we observed before (both models use 12 regularization). The best performing model is the Gradient boosting. \\\n",
    "Nevertheless the fact that i can train a logistic classifier via SGD is a big plus given the huge amount of data that I have to set this algorithm for.\n",
    "Before moving into the construction of the pipeline let's check what are the features that have been used by the classifiers"
   ]
  },
  {
   "cell_type": "code",
   "execution_count": 104,
   "metadata": {},
   "outputs": [],
   "source": [
    "feature_table = pd.DataFrame(np.vstack([lg, sgd, gb[None,:]]).T, index=df.columns[:-1], columns=['lg','sgd','gb'])"
   ]
  },
  {
   "cell_type": "code",
   "execution_count": 113,
   "metadata": {},
   "outputs": [
    {
     "data": {
      "text/html": [
       "<div>\n",
       "<style scoped>\n",
       "    .dataframe tbody tr th:only-of-type {\n",
       "        vertical-align: middle;\n",
       "    }\n",
       "\n",
       "    .dataframe tbody tr th {\n",
       "        vertical-align: top;\n",
       "    }\n",
       "\n",
       "    .dataframe thead th {\n",
       "        text-align: right;\n",
       "    }\n",
       "</style>\n",
       "<table border=\"1\" class=\"dataframe\">\n",
       "  <thead>\n",
       "    <tr style=\"text-align: right;\">\n",
       "      <th></th>\n",
       "      <th>ip</th>\n",
       "      <th>app</th>\n",
       "      <th>device</th>\n",
       "      <th>os</th>\n",
       "      <th>channel</th>\n",
       "      <th>click_time</th>\n",
       "    </tr>\n",
       "  </thead>\n",
       "  <tbody>\n",
       "    <tr>\n",
       "      <th>lg</th>\n",
       "      <td>3.511568</td>\n",
       "      <td>42.453719</td>\n",
       "      <td>-1.557906</td>\n",
       "      <td>-2.775102</td>\n",
       "      <td>-1.483510</td>\n",
       "      <td>-0.461967</td>\n",
       "    </tr>\n",
       "    <tr>\n",
       "      <th>sgd</th>\n",
       "      <td>3.196274</td>\n",
       "      <td>23.950105</td>\n",
       "      <td>-0.311267</td>\n",
       "      <td>-1.600711</td>\n",
       "      <td>-1.173156</td>\n",
       "      <td>-0.716618</td>\n",
       "    </tr>\n",
       "    <tr>\n",
       "      <th>gb</th>\n",
       "      <td>0.143240</td>\n",
       "      <td>0.519748</td>\n",
       "      <td>0.137280</td>\n",
       "      <td>0.049512</td>\n",
       "      <td>0.141638</td>\n",
       "      <td>0.008583</td>\n",
       "    </tr>\n",
       "  </tbody>\n",
       "</table>\n",
       "</div>"
      ],
      "text/plain": [
       "           ip        app    device        os   channel  click_time\n",
       "lg   3.511568  42.453719 -1.557906 -2.775102 -1.483510   -0.461967\n",
       "sgd  3.196274  23.950105 -0.311267 -1.600711 -1.173156   -0.716618\n",
       "gb   0.143240   0.519748  0.137280  0.049512  0.141638    0.008583"
      ]
     },
     "execution_count": 113,
     "metadata": {},
     "output_type": "execute_result"
    }
   ],
   "source": [
    "feature_table.T"
   ]
  },
  {
   "cell_type": "markdown",
   "metadata": {},
   "source": [
    "Despite the difference in importance, we get the same feature ordering for each of the classifiers.\n",
    "This part is done, I'll move into implementing the pipeline for training over the entire dataset."
   ]
  }
 ],
 "metadata": {
  "kernelspec": {
   "display_name": "Python 3",
   "language": "python",
   "name": "python3"
  },
  "language_info": {
   "codemirror_mode": {
    "name": "ipython",
    "version": 3
   },
   "file_extension": ".py",
   "mimetype": "text/x-python",
   "name": "python",
   "nbconvert_exporter": "python",
   "pygments_lexer": "ipython3",
   "version": "3.7.3"
  }
 },
 "nbformat": 4,
 "nbformat_minor": 2
}
